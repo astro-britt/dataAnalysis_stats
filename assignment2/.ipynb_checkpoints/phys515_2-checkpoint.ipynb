{
 "cells": [
  {
   "cell_type": "markdown",
   "metadata": {},
   "source": [
    "# Physics 515 assignment 2\n",
    "Brittany Howard\n",
    "\n",
    "Consider an experiment that measures times $y_i$ between successive light flashes. Model these times as outcomes of a random variable  $Y = X  +  T$, in which   which follows the uniform distribution [0, $d$] and   follows the exponential distribution, with mean lifetime  $\\tau$ = 1. You calculated the pdf  $g(y|d)$ for assignment #1. The null hypothesis has  $d = 4$ and there is a single alternative hypothesis with  $d = 5$. From the Bayesian viewpoint, the two hypotheses are deemed equally likely prior to the measurement.\n",
    "\n",
    "\n",
    "The most powerful discriminator between hypotheses is  the likelihood ratio, $r$  . We will use its logarithm as the test statistic for testing the null hypothesis:\n",
    "\n",
    "$\\ln r = \\sum^n_{i=1} \\ln g(y_i|d=4) - \\sum^n_{i=1}\\ln g(y_i|d=5)$."
   ]
  },
  {
   "cell_type": "code",
   "execution_count": 1,
   "metadata": {
    "collapsed": true
   },
   "outputs": [],
   "source": [
    "import numpy as np\n",
    "import matplotlib.pyplot as plt\n",
    "\n",
    "%matplotlib inline"
   ]
  },
  {
   "cell_type": "code",
   "execution_count": 60,
   "metadata": {
    "collapsed": true
   },
   "outputs": [],
   "source": [
    "# set parameters for everything\n",
    "num_fake_data = 10000     # number of sample datasets for each hypothesis\n",
    "n = 40                    # number of events in each data set \n",
    "d_nums = [4, 5]           # values of d to test\n",
    "tau = 1                   # tau for the exponential random variable\n",
    "binsize = 0.5             # bin size for the histogram\n",
    "mini = -10                # minimum for histogram\n",
    "maxi = 10                 # maximum for histogram"
   ]
  },
  {
   "cell_type": "markdown",
   "metadata": {},
   "source": [
    "## Question 1\n",
    "Evaluate the data test statistic value for the dataset posted for the assignment ( $n$ = 40)."
   ]
  },
  {
   "cell_type": "code",
   "execution_count": 2,
   "metadata": {
    "collapsed": true
   },
   "outputs": [],
   "source": [
    "# load data\n",
    "observed_data = np.loadtxt('datafile.txt')"
   ]
  },
  {
   "cell_type": "code",
   "execution_count": 3,
   "metadata": {
    "collapsed": true
   },
   "outputs": [],
   "source": [
    "def get_gy(yi, d):  # for evaluating g(y|d)\n",
    "    # from assignment one\n",
    "    # don't need to worry about region where y < 0; there's 0 probability of seeing that data\n",
    "    if yi <= d:\n",
    "        gy = (1 - np.exp(-yi)) / d\n",
    "    else:  # yi > d\n",
    "        gy = (np.exp(d - yi) - np.exp(-yi)) / d\n",
    "    return gy"
   ]
  },
  {
   "cell_type": "code",
   "execution_count": 4,
   "metadata": {
    "collapsed": true
   },
   "outputs": [],
   "source": [
    "def get_lnr(data):\n",
    "    term1 = 0\n",
    "    term2 = 0\n",
    "    \n",
    "    for yi in data:\n",
    "        term1 += np.log(get_gy(yi, d=d_nums[0]))\n",
    "        term2 += np.log(get_gy(yi, d=d_nums[1]))\n",
    "        \n",
    "    lnr = term1 - term2\n",
    "\n",
    "    return lnr"
   ]
  },
  {
   "cell_type": "code",
   "execution_count": 5,
   "metadata": {},
   "outputs": [
    {
     "name": "stdout",
     "output_type": "stream",
     "text": [
      "The value of the test statistic for our observed data is 1.7729743068969128\n"
     ]
    }
   ],
   "source": [
    "# get the test statistic for the observed data\n",
    "observed_testStat = get_lnr(observed_data)\n",
    "print('The value of the test statistic for our observed data is {}'.format(observed_testStat))"
   ]
  },
  {
   "cell_type": "markdown",
   "metadata": {},
   "source": [
    "## Question 2\n",
    "Find sampling distributions for the test statistic by generating 10,000 toy samples for each hypothesis (produce each toy sample with 40 events). Plot normalized histograms of the test statistic for these toy samples, with bin size 0.5. These represent the sampling distributions and an example is shown below."
   ]
  },
  {
   "cell_type": "code",
   "execution_count": 43,
   "metadata": {
    "collapsed": true
   },
   "outputs": [],
   "source": [
    "def make_fake_data(n, d):\n",
    "    x = np.random.uniform(high=d, low=0, size=n)\n",
    "    t = np.random.exponential(scale=tau, size=n)\n",
    "    fake_data = x + t\n",
    "    return fake_data"
   ]
  },
  {
   "cell_type": "code",
   "execution_count": 44,
   "metadata": {},
   "outputs": [],
   "source": [
    "test_stat_d4 = []\n",
    "test_stat_d5 = []\n",
    "\n",
    "for d in d_nums:\n",
    "    for num in range(0,num_fake_data):\n",
    "        # generate one set of fake data\n",
    "        fake_data = make_fake_data(n, d)\n",
    "\n",
    "        # calculate the test statstic and append to the correct list\n",
    "        if d == 4:\n",
    "            test_stat_d4.append(get_lnr(fake_data))\n",
    "        else:\n",
    "            test_stat_d5.append(get_lnr(fake_data))"
   ]
  },
  {
   "cell_type": "code",
   "execution_count": 61,
   "metadata": {},
   "outputs": [
    {
     "data": {
      "text/plain": [
       "<matplotlib.text.Text at 0x106bc1e80>"
      ]
     },
     "execution_count": 61,
     "metadata": {},
     "output_type": "execute_result"
    },
    {
     "data": {
      "image/png": "[encoded data removed]",
      "text/plain": [
       "<matplotlib.figure.Figure at 0x106f0ef60>"
      ]
     },
     "metadata": {},
     "output_type": "display_data"
    }
   ],
   "source": [
    "# make the histogram\n",
    "plt.hist(test_stat_d4, \n",
    "         normed=True, \n",
    "         label='Null hypothesis d=4', \n",
    "         edgecolor='blue', fill='',\n",
    "         bins=np.arange(mini, maxi+binsize, binsize))\n",
    "plt.hist(test_stat_d5, \n",
    "         normed=True,\n",
    "         label='Alternative hypothesis d=5',\n",
    "         edgecolor='red', fill='',\n",
    "         bins=np.arange(mini, maxi+binsize, binsize))\n",
    "plt.legend()\n",
    "# set bin size\n",
    "plt.title('Sampling distributions of the test statistic')\n",
    "plt.ylabel('Probability/0.5')\n",
    "plt.xlabel('lnr')"
   ]
  },
  {
   "cell_type": "markdown",
   "metadata": {},
   "source": [
    "## Question 3\n",
    "\n",
    "Frequentist Test: Calculate the p-value to test the null hypothesis. Is the null hypothesis rejected at the 95% confidence level?\n",
    "\n",
    "To calculate the p-value, all we need to do is see what fraction of our sample values of $\\ln r$ are lower than our actual value from the observed data, 1.7729.\n",
    "\n",
    "For the second part, we need to calculate the cutoff value of $\\ln r$ and see if our observed value is more anomalous than that. Given the histogram above, we see that more anomalous means a lower value of $\\ln r$, so if our value is lower than that of the cutoff value, we can say that the null hypothesis is rejected at the 95% confidence level. To find the cutoff value, we just need to sort our values of $\\ln r$ for $d=4$ by value, and then use indexing to find the 500th lowest value."
   ]
  },
  {
   "cell_type": "code",
   "execution_count": 47,
   "metadata": {},
   "outputs": [
    {
     "name": "stdout",
     "output_type": "stream",
     "text": [
      "(array([   0,    1,    2, ..., 3226, 3227, 3228]),)\n"
     ]
    }
   ],
   "source": [
    "# calculate p-value\n",
    "test_stat_d4.sort()  # sort from low to high\n",
    "num_lower = np.where(test_stat_d4 <= observed_testStat)\n",
    "print(num_lower)"
   ]
  },
  {
   "cell_type": "markdown",
   "metadata": {},
   "source": [
    "Okay, so that didn't work exactly how I wanted it to, code-wise, but in the interest of saving time, I won't try to fully automate this now. We can just say that the p-value is the fraction of test statistic values as anomalous or more anomalous than our observed value, which will be 32228/10000, which give us a **p-value of 3.22**.\n",
    "\n",
    "Now, let's find the cutoff value:"
   ]
  },
  {
   "cell_type": "code",
   "execution_count": 49,
   "metadata": {},
   "outputs": [
    {
     "name": "stdout",
     "output_type": "stream",
     "text": [
      "-0.897452707273\n"
     ]
    }
   ],
   "source": [
    "cutoff = test_stat_d4[500]\n",
    "print(cutoff)"
   ]
  },
  {
   "cell_type": "markdown",
   "metadata": {},
   "source": [
    "Since we observed a test statistic equal to 1.7729 and it is not lower (more anomalous) than our cutoff value of -0.8975, **we cannot say that the null hypothesis is rejected at the 95% confidence level**."
   ]
  },
  {
   "cell_type": "markdown",
   "metadata": {},
   "source": [
    "## Question 4\n",
    "Bayesian Test: Calculate the posterior probability for the null hypothesis. To estimate the probability densities for the sampling distributions at the value of the data test statistic, count the number of toy samples that have a test statistic within 0.2 of the data test statistic value.\n",
    "\n",
    "To get the posterior probability, we follow this formula:\n",
    "\n",
    "$P(H_0|x) = \\frac{1}{1+1/\\text{posterior_odds}}$,\n",
    "\n",
    "where the posterior odds are given by the likelihood ratio divided by the prior odds. It is given in the assignment that the prior odds is equal to one, so we can ignore this piece and simply calculate the likelihood ratio, defined as $\\frac{P(x|H_0)}{P(x|H_1)}$. This can be numerically estimated as follows:"
   ]
  },
  {
   "cell_type": "code",
   "execution_count": 59,
   "metadata": {},
   "outputs": [
    {
     "name": "stdout",
     "output_type": "stream",
     "text": [
      "Posterior probability for the null hypothesis is 0.8530183727034121\n"
     ]
    }
   ],
   "source": [
    "top = ((observed_testStat - 0.2 < test_stat_d4) & (test_stat_d4 < observed_testStat + 0.2)).sum()\n",
    "bottom = ((observed_testStat - 0.2 < test_stat_d5) & (test_stat_d5 < observed_testStat + 0.2)).sum()\n",
    "posterior_odds = top/bottom\n",
    "    \n",
    "posterior_probability = 1 / (1 + 1 / posterior_odds)\n",
    "print('Posterior probability for the null hypothesis is {}'.format(posterior_probability))"
   ]
  }
 ],
 "metadata": {
  "kernelspec": {
   "display_name": "Python 3",
   "language": "python",
   "name": "python3"
  },
  "language_info": {
   "codemirror_mode": {
    "name": "ipython",
    "version": 3
   },
   "file_extension": ".py",
   "mimetype": "text/x-python",
   "name": "python",
   "nbconvert_exporter": "python",
   "pygments_lexer": "ipython3",
   "version": "3.6.1"
  }
 },
 "nbformat": 4,
 "nbformat_minor": 2
}
